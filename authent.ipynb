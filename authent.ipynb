{
 "cells": [
  {
   "cell_type": "markdown",
   "id": "caf3f0cd-925d-4a98-9888-fa08a42d49a1",
   "metadata": {},
   "source": [
    "Q1. You are writing code for a company. The requirement of the company is that you create a python\n",
    "function that will check whether the password entered by the user is correct or not. The function should\n",
    "take the password as input and return the string “Valid Password” if the entered password follows the\n",
    "below-given password guidelines else it should return “Invalid Password”.\n",
    "\n",
    "Note: \n",
    "\n",
    "1. The Password should contain at least two uppercase letters and at least two lowercase letters.\n",
    "\n",
    "2. The Password should contain at least a number and three special characters.\n",
    "\n",
    "3. The length of the password should be 10 characters long."
   ]
  },
  {
   "cell_type": "code",
   "execution_count": 4,
   "id": "688d0f8e-dd2f-4bd8-b7b2-c311aee55c20",
   "metadata": {},
   "outputs": [
    {
     "name": "stdin",
     "output_type": "stream",
     "text": [
      "Enter your password:  AAaa@#12hj\n"
     ]
    },
    {
     "name": "stdout",
     "output_type": "stream",
     "text": [
      "Invalid Password\n"
     ]
    }
   ],
   "source": [
    "#Ans\n",
    "\n",
    "def check_password(password):\n",
    "    \n",
    "    if len(password) != 10:\n",
    "        return \"Invalid Password\"\n",
    "    \n",
    "    upper_count = 0\n",
    "    lower_count = 0\n",
    "    for char in password:\n",
    "        if char.isupper():\n",
    "            upper_count += 1\n",
    "        elif char.islower():\n",
    "            lower_count += 1\n",
    "    if upper_count < 2 or lower_count < 2:\n",
    "        return \"Invalid Password\"\n",
    "    \n",
    "    digit_count = 0\n",
    "    special_count = 0\n",
    "    for char in password:\n",
    "        if char.isdigit():\n",
    "            digit_count += 1\n",
    "        elif not char.isalnum():\n",
    "            special_count += 1\n",
    "    if digit_count < 1 or special_count < 3:\n",
    "        return \"Invalid Password\"\n",
    "    \n",
    "    return \"Valid Password\"\n",
    "\n",
    "\n",
    "password = input(\"Enter your password: \")\n",
    "result = check_password(password)\n",
    "print(result)\n"
   ]
  },
  {
   "cell_type": "markdown",
   "id": "23a4022d-2b9f-48fa-afb9-e401fe928d35",
   "metadata": {},
   "source": [
    "                        -----------------------------------------------------------------"
   ]
  },
  {
   "cell_type": "markdown",
   "id": "c24b3369-a084-4553-b902-b2665ca5f0ea",
   "metadata": {},
   "source": [
    "Q2. Solve the below-given questions using at least one of the following:\n",
    "1. Lambda functioJ\n",
    "2. Filter functioJ\n",
    "3. Zap functioJ\n",
    "4. List ComprehensioI\n",
    "\n",
    "\n",
    "- Check if the string starts with a particular letter\n",
    "- check if the string is numeric\n",
    "- Sort a list of tuples having fruit names and their quantity. [(\"mango\",99),(\"orange\",80), (\"grapes\", 1000)]\n",
    "- Find the squares of numbers from 1 to 10\n",
    "- Find the cube root of numbers from 1 to 10\n",
    "- Check if a given number is even\n",
    "- Filter odd numbers from the given list.\n",
    "[1,2,3,4,5,6,7,8,9,10]\n",
    "- Sort a list of integers into positive and negative integers lists.\n",
    "[1,2,3,4,5,6,-1,-2,-3,-4,-5,0]"
   ]
  },
  {
   "cell_type": "markdown",
   "id": "04780466-83b4-46d6-a5ed-bc47fb671380",
   "metadata": {},
   "source": [
    "#Ans\n",
    "\n",
    "Check if the string starts with a particular letter:\n",
    "Using Lambda function and filter function:\n",
    "\n"
   ]
  },
  {
   "cell_type": "code",
   "execution_count": 9,
   "id": "7477be26-dc31-44d1-9e71-53203e227a99",
   "metadata": {},
   "outputs": [
    {
     "name": "stdout",
     "output_type": "stream",
     "text": [
      "['banana']\n"
     ]
    }
   ],
   "source": [
    "strings = ['apple', 'banana', 'cherry', 'date', 'elderberry']\n",
    "letter = 'b'\n",
    "result = list(filter(lambda s: s.startswith(letter), strings))\n",
    "print(result)\n"
   ]
  },
  {
   "cell_type": "markdown",
   "id": "c9cc5583-0aff-4423-9796-8bc96760188d",
   "metadata": {},
   "source": [
    "Check if the string is numeric:\n",
    "Using Lambda function and filter function:"
   ]
  },
  {
   "cell_type": "code",
   "execution_count": 10,
   "id": "66313faf-0253-453d-ab3a-64736d776060",
   "metadata": {},
   "outputs": [
    {
     "name": "stdout",
     "output_type": "stream",
     "text": [
      "['123', '9876']\n"
     ]
    }
   ],
   "source": [
    "strings = ['apple', '123', 'cherry', '9876', 'elderberry']\n",
    "result = list(filter(lambda s: s.isnumeric(), strings))\n",
    "print(result)\n"
   ]
  },
  {
   "cell_type": "markdown",
   "id": "40f4c33e-0836-469b-8020-83c2ad37a8fe",
   "metadata": {},
   "source": [
    "Sort a list of tuples having fruit names and their quantity:\n",
    "Using Lambda function and sorted function:"
   ]
  },
  {
   "cell_type": "code",
   "execution_count": 11,
   "id": "ce380bc5-141c-419b-b479-f20aa4aa0671",
   "metadata": {},
   "outputs": [
    {
     "name": "stdout",
     "output_type": "stream",
     "text": [
      "[('orange', 80), ('mango', 99), ('grapes', 1000)]\n"
     ]
    }
   ],
   "source": [
    "fruits = [(\"mango\", 99), (\"orange\", 80), (\"grapes\", 1000)]\n",
    "result = sorted(fruits, key=lambda x: x[1])\n",
    "print(result)\n"
   ]
  },
  {
   "cell_type": "markdown",
   "id": "89f77888-7b40-4a9d-aebe-fe4bdf9738dd",
   "metadata": {},
   "source": [
    "Find the squares of numbers from 1 to 10:\n",
    "Using List Comprehension:"
   ]
  },
  {
   "cell_type": "code",
   "execution_count": 12,
   "id": "4c55d4a0-cb2a-4d17-9143-80de82d80c57",
   "metadata": {},
   "outputs": [
    {
     "name": "stdout",
     "output_type": "stream",
     "text": [
      "[1, 4, 9, 16, 25, 36, 49, 64, 81, 100]\n"
     ]
    }
   ],
   "source": [
    "result = [i**2 for i in range(1, 11)]\n",
    "print(result)\n"
   ]
  },
  {
   "cell_type": "markdown",
   "id": "aba7ba74-50a8-4cbb-96a2-155760ba292b",
   "metadata": {},
   "source": [
    "Find the cube root of numbers from 1 to 10:\n",
    "Using List Comprehension and math module:"
   ]
  },
  {
   "cell_type": "code",
   "execution_count": 13,
   "id": "8084461f-1bfb-4ac1-bc59-1399e8ce3ac4",
   "metadata": {},
   "outputs": [
    {
     "name": "stdout",
     "output_type": "stream",
     "text": [
      "[1.0, 1.2599210498948732, 1.4422495703074083, 1.5874010519681994, 1.7099759466766968, 1.8171205928321397, 1.912931182772389, 2.0, 2.080083823051904, 2.154434690031884]\n"
     ]
    }
   ],
   "source": [
    "import math\n",
    "result = [math.pow(i, 1/3) for i in range(1, 11)]\n",
    "print(result)\n"
   ]
  },
  {
   "cell_type": "markdown",
   "id": "6f84012b-01a2-42cd-bfc1-7df447505d3c",
   "metadata": {},
   "source": [
    "Check if a given number is even:\n",
    "Using Lambda function:"
   ]
  },
  {
   "cell_type": "code",
   "execution_count": 14,
   "id": "34bd64d1-a1cc-4a0e-b26b-fce82cbc6239",
   "metadata": {},
   "outputs": [
    {
     "name": "stdout",
     "output_type": "stream",
     "text": [
      "True\n"
     ]
    }
   ],
   "source": [
    "num = 4\n",
    "result = (lambda x: x % 2 == 0)(num)\n",
    "print(result)\n"
   ]
  },
  {
   "cell_type": "markdown",
   "id": "d5d2edcd-a5c6-4c84-8098-70666a1a13ce",
   "metadata": {},
   "source": [
    "Filter odd numbers from the given list. [1,2,3,4,5,6,7,8,9,10]:\n",
    "Using Lambda function and filter function:"
   ]
  },
  {
   "cell_type": "code",
   "execution_count": 15,
   "id": "272c3c7a-3bc1-4ab0-96c1-b7098ce1443d",
   "metadata": {},
   "outputs": [
    {
     "name": "stdout",
     "output_type": "stream",
     "text": [
      "[1, 3, 5, 7, 9]\n"
     ]
    }
   ],
   "source": [
    "nums = [1, 2, 3, 4, 5, 6, 7, 8, 9, 10]\n",
    "result = list(filter(lambda x: x % 2 != 0, nums))\n",
    "print(result)\n"
   ]
  },
  {
   "cell_type": "markdown",
   "id": "90621939-ee6c-488f-82e4-63fc5aa77947",
   "metadata": {},
   "source": [
    "Sort a list of integers into positive and negative integers lists. [1,2,3,4,5,6,-1,-2,-3,-4,-5,0]:\n",
    "Using List Comprehension:"
   ]
  },
  {
   "cell_type": "code",
   "execution_count": 16,
   "id": "aaf71378-358f-40b1-9371-4ab9a874cb6d",
   "metadata": {},
   "outputs": [
    {
     "name": "stdout",
     "output_type": "stream",
     "text": [
      "[1, 2, 3, 4, 5, 6]\n",
      "[-1, -2, -3, -4, -5]\n"
     ]
    }
   ],
   "source": [
    "nums = [1, 2, 3, 4, 5, 6, -1, -2, -3, -4, -5, 0]\n",
    "positive_nums = [x for x in nums if x > 0]\n",
    "negative_nums = [x for x in nums if x < 0]\n",
    "print(positive_nums)\n",
    "print(negative_nums)\n"
   ]
  },
  {
   "cell_type": "markdown",
   "id": "0beb8458-cb90-43dd-b949-f938dc422f62",
   "metadata": {},
   "source": [
    "                        -----------------------------------------------------------------"
   ]
  }
 ],
 "metadata": {
  "kernelspec": {
   "display_name": "Python 3 (ipykernel)",
   "language": "python",
   "name": "python3"
  },
  "language_info": {
   "codemirror_mode": {
    "name": "ipython",
    "version": 3
   },
   "file_extension": ".py",
   "mimetype": "text/x-python",
   "name": "python",
   "nbconvert_exporter": "python",
   "pygments_lexer": "ipython3",
   "version": "3.10.8"
  }
 },
 "nbformat": 4,
 "nbformat_minor": 5
}
